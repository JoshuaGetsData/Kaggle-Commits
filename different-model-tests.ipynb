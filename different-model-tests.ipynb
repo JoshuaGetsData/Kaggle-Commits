{
 "cells": [
  {
   "cell_type": "markdown",
   "id": "db6d7c2f",
   "metadata": {
    "papermill": {
     "duration": 0.013453,
     "end_time": "2022-07-18T16:51:08.286703",
     "exception": false,
     "start_time": "2022-07-18T16:51:08.273250",
     "status": "completed"
    },
    "tags": []
   },
   "source": [
    "# Various Regression Models for Cars CO2 Emissions"
   ]
  },
  {
   "cell_type": "code",
   "execution_count": 1,
   "id": "c279479c",
   "metadata": {
    "execution": {
     "iopub.execute_input": "2022-07-18T16:51:08.312737Z",
     "iopub.status.busy": "2022-07-18T16:51:08.311941Z",
     "iopub.status.idle": "2022-07-18T16:51:09.797400Z",
     "shell.execute_reply": "2022-07-18T16:51:09.795744Z"
    },
    "papermill": {
     "duration": 1.501909,
     "end_time": "2022-07-18T16:51:09.800766",
     "exception": false,
     "start_time": "2022-07-18T16:51:08.298857",
     "status": "completed"
    },
    "tags": []
   },
   "outputs": [],
   "source": [
    "#Set up DA environment\n",
    "import pandas as pd\n",
    "import seaborn as sns\n",
    "import numpy as np\n",
    "from sklearn.linear_model import LinearRegression\n",
    "from sklearn import linear_model"
   ]
  },
  {
   "cell_type": "code",
   "execution_count": 2,
   "id": "872fa701",
   "metadata": {
    "execution": {
     "iopub.execute_input": "2022-07-18T16:51:09.830988Z",
     "iopub.status.busy": "2022-07-18T16:51:09.830205Z",
     "iopub.status.idle": "2022-07-18T16:51:09.853000Z",
     "shell.execute_reply": "2022-07-18T16:51:09.851719Z"
    },
    "papermill": {
     "duration": 0.04258,
     "end_time": "2022-07-18T16:51:09.855839",
     "exception": false,
     "start_time": "2022-07-18T16:51:09.813259",
     "status": "completed"
    },
    "tags": []
   },
   "outputs": [],
   "source": [
    "df = pd.read_csv('../input/co2-emission-of-cars-dataset/DATA.csv') #read in data"
   ]
  },
  {
   "cell_type": "code",
   "execution_count": 3,
   "id": "6506360e",
   "metadata": {
    "execution": {
     "iopub.execute_input": "2022-07-18T16:51:09.882285Z",
     "iopub.status.busy": "2022-07-18T16:51:09.881818Z",
     "iopub.status.idle": "2022-07-18T16:51:09.905809Z",
     "shell.execute_reply": "2022-07-18T16:51:09.904614Z"
    },
    "papermill": {
     "duration": 0.040022,
     "end_time": "2022-07-18T16:51:09.908402",
     "exception": false,
     "start_time": "2022-07-18T16:51:09.868380",
     "status": "completed"
    },
    "tags": []
   },
   "outputs": [
    {
     "data": {
      "text/html": [
       "<div>\n",
       "<style scoped>\n",
       "    .dataframe tbody tr th:only-of-type {\n",
       "        vertical-align: middle;\n",
       "    }\n",
       "\n",
       "    .dataframe tbody tr th {\n",
       "        vertical-align: top;\n",
       "    }\n",
       "\n",
       "    .dataframe thead th {\n",
       "        text-align: right;\n",
       "    }\n",
       "</style>\n",
       "<table border=\"1\" class=\"dataframe\">\n",
       "  <thead>\n",
       "    <tr style=\"text-align: right;\">\n",
       "      <th></th>\n",
       "      <th>Car</th>\n",
       "      <th>Model</th>\n",
       "      <th>Volume</th>\n",
       "      <th>Weight</th>\n",
       "      <th>CO2</th>\n",
       "      <th>Unnamed: 5</th>\n",
       "    </tr>\n",
       "  </thead>\n",
       "  <tbody>\n",
       "    <tr>\n",
       "      <th>0</th>\n",
       "      <td>Toyota</td>\n",
       "      <td>Aygo</td>\n",
       "      <td>1000</td>\n",
       "      <td>790</td>\n",
       "      <td>99</td>\n",
       "      <td>NaN</td>\n",
       "    </tr>\n",
       "    <tr>\n",
       "      <th>1</th>\n",
       "      <td>Mitsubishi</td>\n",
       "      <td>Space Star</td>\n",
       "      <td>1200</td>\n",
       "      <td>1160</td>\n",
       "      <td>95</td>\n",
       "      <td>NaN</td>\n",
       "    </tr>\n",
       "    <tr>\n",
       "      <th>2</th>\n",
       "      <td>Skoda</td>\n",
       "      <td>Citigo</td>\n",
       "      <td>1000</td>\n",
       "      <td>929</td>\n",
       "      <td>95</td>\n",
       "      <td>NaN</td>\n",
       "    </tr>\n",
       "    <tr>\n",
       "      <th>3</th>\n",
       "      <td>Fiat</td>\n",
       "      <td>500</td>\n",
       "      <td>900</td>\n",
       "      <td>865</td>\n",
       "      <td>90</td>\n",
       "      <td>NaN</td>\n",
       "    </tr>\n",
       "    <tr>\n",
       "      <th>4</th>\n",
       "      <td>Mini</td>\n",
       "      <td>Cooper</td>\n",
       "      <td>1500</td>\n",
       "      <td>1140</td>\n",
       "      <td>105</td>\n",
       "      <td>NaN</td>\n",
       "    </tr>\n",
       "  </tbody>\n",
       "</table>\n",
       "</div>"
      ],
      "text/plain": [
       "          Car       Model  Volume  Weight  CO2  Unnamed: 5\n",
       "0      Toyota        Aygo    1000     790   99         NaN\n",
       "1  Mitsubishi  Space Star    1200    1160   95         NaN\n",
       "2       Skoda      Citigo    1000     929   95         NaN\n",
       "3        Fiat         500     900     865   90         NaN\n",
       "4        Mini      Cooper    1500    1140  105         NaN"
      ]
     },
     "execution_count": 3,
     "metadata": {},
     "output_type": "execute_result"
    }
   ],
   "source": [
    "df.head()"
   ]
  },
  {
   "cell_type": "code",
   "execution_count": 4,
   "id": "061cc956",
   "metadata": {
    "execution": {
     "iopub.execute_input": "2022-07-18T16:51:09.934962Z",
     "iopub.status.busy": "2022-07-18T16:51:09.934485Z",
     "iopub.status.idle": "2022-07-18T16:51:09.949074Z",
     "shell.execute_reply": "2022-07-18T16:51:09.947773Z"
    },
    "papermill": {
     "duration": 0.030834,
     "end_time": "2022-07-18T16:51:09.951531",
     "exception": false,
     "start_time": "2022-07-18T16:51:09.920697",
     "status": "completed"
    },
    "tags": []
   },
   "outputs": [],
   "source": [
    "#drop unnamed column\n",
    "df=df.drop(['Unnamed: 5'], axis=1)"
   ]
  },
  {
   "cell_type": "code",
   "execution_count": 5,
   "id": "bbbe1fee",
   "metadata": {
    "execution": {
     "iopub.execute_input": "2022-07-18T16:51:09.979112Z",
     "iopub.status.busy": "2022-07-18T16:51:09.978657Z",
     "iopub.status.idle": "2022-07-18T16:51:09.990994Z",
     "shell.execute_reply": "2022-07-18T16:51:09.989767Z"
    },
    "papermill": {
     "duration": 0.029591,
     "end_time": "2022-07-18T16:51:09.993769",
     "exception": false,
     "start_time": "2022-07-18T16:51:09.964178",
     "status": "completed"
    },
    "tags": []
   },
   "outputs": [
    {
     "data": {
      "text/html": [
       "<div>\n",
       "<style scoped>\n",
       "    .dataframe tbody tr th:only-of-type {\n",
       "        vertical-align: middle;\n",
       "    }\n",
       "\n",
       "    .dataframe tbody tr th {\n",
       "        vertical-align: top;\n",
       "    }\n",
       "\n",
       "    .dataframe thead th {\n",
       "        text-align: right;\n",
       "    }\n",
       "</style>\n",
       "<table border=\"1\" class=\"dataframe\">\n",
       "  <thead>\n",
       "    <tr style=\"text-align: right;\">\n",
       "      <th></th>\n",
       "      <th>Car</th>\n",
       "      <th>Model</th>\n",
       "      <th>Volume</th>\n",
       "      <th>Weight</th>\n",
       "      <th>CO2</th>\n",
       "    </tr>\n",
       "  </thead>\n",
       "  <tbody>\n",
       "    <tr>\n",
       "      <th>0</th>\n",
       "      <td>Toyota</td>\n",
       "      <td>Aygo</td>\n",
       "      <td>1000</td>\n",
       "      <td>790</td>\n",
       "      <td>99</td>\n",
       "    </tr>\n",
       "    <tr>\n",
       "      <th>1</th>\n",
       "      <td>Mitsubishi</td>\n",
       "      <td>Space Star</td>\n",
       "      <td>1200</td>\n",
       "      <td>1160</td>\n",
       "      <td>95</td>\n",
       "    </tr>\n",
       "    <tr>\n",
       "      <th>2</th>\n",
       "      <td>Skoda</td>\n",
       "      <td>Citigo</td>\n",
       "      <td>1000</td>\n",
       "      <td>929</td>\n",
       "      <td>95</td>\n",
       "    </tr>\n",
       "    <tr>\n",
       "      <th>3</th>\n",
       "      <td>Fiat</td>\n",
       "      <td>500</td>\n",
       "      <td>900</td>\n",
       "      <td>865</td>\n",
       "      <td>90</td>\n",
       "    </tr>\n",
       "    <tr>\n",
       "      <th>4</th>\n",
       "      <td>Mini</td>\n",
       "      <td>Cooper</td>\n",
       "      <td>1500</td>\n",
       "      <td>1140</td>\n",
       "      <td>105</td>\n",
       "    </tr>\n",
       "  </tbody>\n",
       "</table>\n",
       "</div>"
      ],
      "text/plain": [
       "          Car       Model  Volume  Weight  CO2\n",
       "0      Toyota        Aygo    1000     790   99\n",
       "1  Mitsubishi  Space Star    1200    1160   95\n",
       "2       Skoda      Citigo    1000     929   95\n",
       "3        Fiat         500     900     865   90\n",
       "4        Mini      Cooper    1500    1140  105"
      ]
     },
     "execution_count": 5,
     "metadata": {},
     "output_type": "execute_result"
    }
   ],
   "source": [
    "df.head()"
   ]
  },
  {
   "cell_type": "code",
   "execution_count": 6,
   "id": "e7b5d237",
   "metadata": {
    "execution": {
     "iopub.execute_input": "2022-07-18T16:51:10.020413Z",
     "iopub.status.busy": "2022-07-18T16:51:10.019984Z",
     "iopub.status.idle": "2022-07-18T16:51:10.043155Z",
     "shell.execute_reply": "2022-07-18T16:51:10.041427Z"
    },
    "papermill": {
     "duration": 0.040285,
     "end_time": "2022-07-18T16:51:10.046130",
     "exception": false,
     "start_time": "2022-07-18T16:51:10.005845",
     "status": "completed"
    },
    "tags": []
   },
   "outputs": [
    {
     "name": "stdout",
     "output_type": "stream",
     "text": [
      "<class 'pandas.core.frame.DataFrame'>\n",
      "RangeIndex: 36 entries, 0 to 35\n",
      "Data columns (total 5 columns):\n",
      " #   Column  Non-Null Count  Dtype \n",
      "---  ------  --------------  ----- \n",
      " 0   Car     36 non-null     object\n",
      " 1   Model   36 non-null     object\n",
      " 2   Volume  36 non-null     int64 \n",
      " 3   Weight  36 non-null     int64 \n",
      " 4   CO2     36 non-null     int64 \n",
      "dtypes: int64(3), object(2)\n",
      "memory usage: 1.5+ KB\n"
     ]
    }
   ],
   "source": [
    "df.info()"
   ]
  },
  {
   "cell_type": "code",
   "execution_count": 7,
   "id": "8bd92cd5",
   "metadata": {
    "execution": {
     "iopub.execute_input": "2022-07-18T16:51:10.073059Z",
     "iopub.status.busy": "2022-07-18T16:51:10.071795Z",
     "iopub.status.idle": "2022-07-18T16:51:10.086198Z",
     "shell.execute_reply": "2022-07-18T16:51:10.085380Z"
    },
    "papermill": {
     "duration": 0.030469,
     "end_time": "2022-07-18T16:51:10.088547",
     "exception": false,
     "start_time": "2022-07-18T16:51:10.058078",
     "status": "completed"
    },
    "tags": []
   },
   "outputs": [
    {
     "data": {
      "text/html": [
       "<div>\n",
       "<style scoped>\n",
       "    .dataframe tbody tr th:only-of-type {\n",
       "        vertical-align: middle;\n",
       "    }\n",
       "\n",
       "    .dataframe tbody tr th {\n",
       "        vertical-align: top;\n",
       "    }\n",
       "\n",
       "    .dataframe thead th {\n",
       "        text-align: right;\n",
       "    }\n",
       "</style>\n",
       "<table border=\"1\" class=\"dataframe\">\n",
       "  <thead>\n",
       "    <tr style=\"text-align: right;\">\n",
       "      <th></th>\n",
       "      <th>Volume</th>\n",
       "      <th>Weight</th>\n",
       "      <th>CO2</th>\n",
       "    </tr>\n",
       "  </thead>\n",
       "  <tbody>\n",
       "    <tr>\n",
       "      <th>Volume</th>\n",
       "      <td>1.000000</td>\n",
       "      <td>0.753537</td>\n",
       "      <td>0.592082</td>\n",
       "    </tr>\n",
       "    <tr>\n",
       "      <th>Weight</th>\n",
       "      <td>0.753537</td>\n",
       "      <td>1.000000</td>\n",
       "      <td>0.552150</td>\n",
       "    </tr>\n",
       "    <tr>\n",
       "      <th>CO2</th>\n",
       "      <td>0.592082</td>\n",
       "      <td>0.552150</td>\n",
       "      <td>1.000000</td>\n",
       "    </tr>\n",
       "  </tbody>\n",
       "</table>\n",
       "</div>"
      ],
      "text/plain": [
       "          Volume    Weight       CO2\n",
       "Volume  1.000000  0.753537  0.592082\n",
       "Weight  0.753537  1.000000  0.552150\n",
       "CO2     0.592082  0.552150  1.000000"
      ]
     },
     "execution_count": 7,
     "metadata": {},
     "output_type": "execute_result"
    }
   ],
   "source": [
    "df.corr()"
   ]
  },
  {
   "cell_type": "code",
   "execution_count": 8,
   "id": "0b63c0c6",
   "metadata": {
    "execution": {
     "iopub.execute_input": "2022-07-18T16:51:10.116997Z",
     "iopub.status.busy": "2022-07-18T16:51:10.116528Z",
     "iopub.status.idle": "2022-07-18T16:51:10.451250Z",
     "shell.execute_reply": "2022-07-18T16:51:10.449794Z"
    },
    "papermill": {
     "duration": 0.355151,
     "end_time": "2022-07-18T16:51:10.456016",
     "exception": false,
     "start_time": "2022-07-18T16:51:10.100865",
     "status": "completed"
    },
    "tags": []
   },
   "outputs": [
    {
     "data": {
      "image/png": "[encoded data removed]",
      "text/plain": [
       "<Figure size 432x288 with 1 Axes>"
      ]
     },
     "metadata": {
      "needs_background": "light"
     },
     "output_type": "display_data"
    }
   ],
   "source": [
    "vreg = sns.regplot(x='Volume', y='CO2', data=df)"
   ]
  },
  {
   "cell_type": "code",
   "execution_count": 9,
   "id": "499433ed",
   "metadata": {
    "execution": {
     "iopub.execute_input": "2022-07-18T16:51:10.484877Z",
     "iopub.status.busy": "2022-07-18T16:51:10.484467Z",
     "iopub.status.idle": "2022-07-18T16:51:10.758026Z",
     "shell.execute_reply": "2022-07-18T16:51:10.756392Z"
    },
    "papermill": {
     "duration": 0.290312,
     "end_time": "2022-07-18T16:51:10.760477",
     "exception": false,
     "start_time": "2022-07-18T16:51:10.470165",
     "status": "completed"
    },
    "tags": []
   },
   "outputs": [
    {
     "data": {
      "image/png": "[encoded data removed]",
      "text/plain": [
       "<Figure size 432x288 with 1 Axes>"
      ]
     },
     "metadata": {
      "needs_background": "light"
     },
     "output_type": "display_data"
    }
   ],
   "source": [
    "wreg = sns.regplot(x='Weight', y='CO2', data=df)"
   ]
  },
  {
   "cell_type": "code",
   "execution_count": 10,
   "id": "b76a2264",
   "metadata": {
    "execution": {
     "iopub.execute_input": "2022-07-18T16:51:10.788432Z",
     "iopub.status.busy": "2022-07-18T16:51:10.787465Z",
     "iopub.status.idle": "2022-07-18T16:51:10.792777Z",
     "shell.execute_reply": "2022-07-18T16:51:10.791815Z"
    },
    "papermill": {
     "duration": 0.021473,
     "end_time": "2022-07-18T16:51:10.794674",
     "exception": false,
     "start_time": "2022-07-18T16:51:10.773201",
     "status": "completed"
    },
    "tags": []
   },
   "outputs": [],
   "source": [
    "lm = LinearRegression()"
   ]
  },
  {
   "cell_type": "code",
   "execution_count": 11,
   "id": "69282ca6",
   "metadata": {
    "execution": {
     "iopub.execute_input": "2022-07-18T16:51:10.822089Z",
     "iopub.status.busy": "2022-07-18T16:51:10.821674Z",
     "iopub.status.idle": "2022-07-18T16:51:10.851464Z",
     "shell.execute_reply": "2022-07-18T16:51:10.850548Z"
    },
    "papermill": {
     "duration": 0.046335,
     "end_time": "2022-07-18T16:51:10.853906",
     "exception": false,
     "start_time": "2022-07-18T16:51:10.807571",
     "status": "completed"
    },
    "tags": []
   },
   "outputs": [
    {
     "data": {
      "text/plain": [
       "LinearRegression()"
      ]
     },
     "execution_count": 11,
     "metadata": {},
     "output_type": "execute_result"
    }
   ],
   "source": [
    "X = df[['Volume', 'Weight']]\n",
    "lm.fit(X, df['CO2'])"
   ]
  },
  {
   "cell_type": "code",
   "execution_count": 12,
   "id": "5a7b7d94",
   "metadata": {
    "execution": {
     "iopub.execute_input": "2022-07-18T16:51:10.883467Z",
     "iopub.status.busy": "2022-07-18T16:51:10.882259Z",
     "iopub.status.idle": "2022-07-18T16:51:10.889255Z",
     "shell.execute_reply": "2022-07-18T16:51:10.888475Z"
    },
    "papermill": {
     "duration": 0.023462,
     "end_time": "2022-07-18T16:51:10.891313",
     "exception": false,
     "start_time": "2022-07-18T16:51:10.867851",
     "status": "completed"
    },
    "tags": []
   },
   "outputs": [
    {
     "data": {
      "text/plain": [
       "array([0.00780526, 0.00755095])"
      ]
     },
     "execution_count": 12,
     "metadata": {},
     "output_type": "execute_result"
    }
   ],
   "source": [
    "# coeff\n",
    "lm.coef_"
   ]
  },
  {
   "cell_type": "code",
   "execution_count": 13,
   "id": "aa6b695e",
   "metadata": {
    "execution": {
     "iopub.execute_input": "2022-07-18T16:51:10.919381Z",
     "iopub.status.busy": "2022-07-18T16:51:10.918939Z",
     "iopub.status.idle": "2022-07-18T16:51:10.925690Z",
     "shell.execute_reply": "2022-07-18T16:51:10.924434Z"
    },
    "papermill": {
     "duration": 0.023294,
     "end_time": "2022-07-18T16:51:10.927759",
     "exception": false,
     "start_time": "2022-07-18T16:51:10.904465",
     "status": "completed"
    },
    "tags": []
   },
   "outputs": [
    {
     "data": {
      "text/plain": [
       "79.69471929115939"
      ]
     },
     "execution_count": 13,
     "metadata": {},
     "output_type": "execute_result"
    }
   ],
   "source": [
    "# intercept \n",
    "lm.intercept_"
   ]
  },
  {
   "cell_type": "markdown",
   "id": "6dae5b7a",
   "metadata": {
    "papermill": {
     "duration": 0.012579,
     "end_time": "2022-07-18T16:51:10.953158",
     "exception": false,
     "start_time": "2022-07-18T16:51:10.940579",
     "status": "completed"
    },
    "tags": []
   },
   "source": [
    "**CO2** = 79.6947 + 0.0076x**Volume** + 0.0078x**Weight**"
   ]
  },
  {
   "cell_type": "code",
   "execution_count": 14,
   "id": "8446b378",
   "metadata": {
    "execution": {
     "iopub.execute_input": "2022-07-18T16:51:10.982406Z",
     "iopub.status.busy": "2022-07-18T16:51:10.981957Z",
     "iopub.status.idle": "2022-07-18T16:51:10.988731Z",
     "shell.execute_reply": "2022-07-18T16:51:10.987450Z"
    },
    "papermill": {
     "duration": 0.024663,
     "end_time": "2022-07-18T16:51:10.991214",
     "exception": false,
     "start_time": "2022-07-18T16:51:10.966551",
     "status": "completed"
    },
    "tags": []
   },
   "outputs": [],
   "source": [
    "Y_hat = lm.predict(X)"
   ]
  },
  {
   "cell_type": "code",
   "execution_count": 15,
   "id": "7582c4da",
   "metadata": {
    "execution": {
     "iopub.execute_input": "2022-07-18T16:51:11.021824Z",
     "iopub.status.busy": "2022-07-18T16:51:11.021359Z",
     "iopub.status.idle": "2022-07-18T16:51:11.026118Z",
     "shell.execute_reply": "2022-07-18T16:51:11.024995Z"
    },
    "papermill": {
     "duration": 0.023312,
     "end_time": "2022-07-18T16:51:11.028451",
     "exception": false,
     "start_time": "2022-07-18T16:51:11.005139",
     "status": "completed"
    },
    "tags": []
   },
   "outputs": [],
   "source": [
    "import matplotlib.pyplot as plt"
   ]
  },
  {
   "cell_type": "code",
   "execution_count": 16,
   "id": "6d7a84c2",
   "metadata": {
    "execution": {
     "iopub.execute_input": "2022-07-18T16:51:11.056831Z",
     "iopub.status.busy": "2022-07-18T16:51:11.056389Z",
     "iopub.status.idle": "2022-07-18T16:51:11.333633Z",
     "shell.execute_reply": "2022-07-18T16:51:11.332241Z"
    },
    "papermill": {
     "duration": 0.29457,
     "end_time": "2022-07-18T16:51:11.336044",
     "exception": false,
     "start_time": "2022-07-18T16:51:11.041474",
     "status": "completed"
    },
    "tags": []
   },
   "outputs": [
    {
     "name": "stderr",
     "output_type": "stream",
     "text": [
      "/opt/conda/lib/python3.7/site-packages/seaborn/distributions.py:2619: FutureWarning: `distplot` is a deprecated function and will be removed in a future version. Please adapt your code to use either `displot` (a figure-level function with similar flexibility) or `kdeplot` (an axes-level function for kernel density plots).\n",
      "  warnings.warn(msg, FutureWarning)\n",
      "/opt/conda/lib/python3.7/site-packages/seaborn/distributions.py:2619: FutureWarning: `distplot` is a deprecated function and will be removed in a future version. Please adapt your code to use either `displot` (a figure-level function with similar flexibility) or `kdeplot` (an axes-level function for kernel density plots).\n",
      "  warnings.warn(msg, FutureWarning)\n"
     ]
    },
    {
     "data": {
      "image/png": "[encoded data removed]",
      "text/plain": [
       "<Figure size 720x576 with 1 Axes>"
      ]
     },
     "metadata": {
      "needs_background": "light"
     },
     "output_type": "display_data"
    }
   ],
   "source": [
    "plt.figure(figsize=(10,8))\n",
    "\n",
    "ax1 = sns.distplot(df['CO2'], hist=False, color=\"r\", label=\"Actual Value\")\n",
    "sns.distplot(Y_hat, hist=False, color=\"b\", label=\"Fitted Values\" , ax=ax1)\n",
    "\n",
    "\n",
    "plt.title('Actual vs Fitted Values for Price')\n",
    "plt.xlabel('CO2 Levels')\n",
    "plt.ylabel('Proportion of Cars')\n",
    "\n",
    "plt.legend()\n",
    "plt.show()\n",
    "plt.close()"
   ]
  },
  {
   "cell_type": "markdown",
   "id": "6a159e1b",
   "metadata": {
    "papermill": {
     "duration": 0.013377,
     "end_time": "2022-07-18T16:51:11.363346",
     "exception": false,
     "start_time": "2022-07-18T16:51:11.349969",
     "status": "completed"
    },
    "tags": []
   },
   "source": [
    "poorly fitted, let's add a polynomial model to the data."
   ]
  },
  {
   "cell_type": "code",
   "execution_count": 17,
   "id": "4179a195",
   "metadata": {
    "execution": {
     "iopub.execute_input": "2022-07-18T16:51:11.393042Z",
     "iopub.status.busy": "2022-07-18T16:51:11.392566Z",
     "iopub.status.idle": "2022-07-18T16:51:11.399377Z",
     "shell.execute_reply": "2022-07-18T16:51:11.398475Z"
    },
    "papermill": {
     "duration": 0.024215,
     "end_time": "2022-07-18T16:51:11.401315",
     "exception": false,
     "start_time": "2022-07-18T16:51:11.377100",
     "status": "completed"
    },
    "tags": []
   },
   "outputs": [],
   "source": [
    "def PlotPolly(model, independent_variable, dependent_variabble, Name):\n",
    "    x_new = np.linspace(800, 2500, 4000)\n",
    "    y_new = model(x_new)\n",
    "\n",
    "    plt.plot(independent_variable, dependent_variabble, '.', x_new, y_new, '-')\n",
    "    plt.title('Polynomial Fit with Matplotlib for CO2 ~ Length')\n",
    "    ax = plt.gca()\n",
    "    ax.set_facecolor((0.898, 0.898, 0.898))\n",
    "    fig = plt.gcf()\n",
    "    plt.xlabel(Name)\n",
    "    plt.ylabel('CO2 Emissions')\n",
    "\n",
    "    plt.show()\n",
    "    plt.close()"
   ]
  },
  {
   "cell_type": "code",
   "execution_count": 18,
   "id": "a769b6cd",
   "metadata": {
    "execution": {
     "iopub.execute_input": "2022-07-18T16:51:11.432157Z",
     "iopub.status.busy": "2022-07-18T16:51:11.431054Z",
     "iopub.status.idle": "2022-07-18T16:51:11.435960Z",
     "shell.execute_reply": "2022-07-18T16:51:11.435069Z"
    },
    "papermill": {
     "duration": 0.023112,
     "end_time": "2022-07-18T16:51:11.438211",
     "exception": false,
     "start_time": "2022-07-18T16:51:11.415099",
     "status": "completed"
    },
    "tags": []
   },
   "outputs": [],
   "source": [
    "# set variables\n",
    "x = df['Volume']\n",
    "y = df['CO2']"
   ]
  },
  {
   "cell_type": "markdown",
   "id": "cb04d5ec",
   "metadata": {
    "papermill": {
     "duration": 0.015303,
     "end_time": "2022-07-18T16:51:11.467824",
     "exception": false,
     "start_time": "2022-07-18T16:51:11.452521",
     "status": "completed"
    },
    "tags": []
   },
   "source": [
    "fit the polynomial using the function <b>polyfit</b>, then use the function <b>poly1d</b> to display the polynomial function."
   ]
  },
  {
   "cell_type": "code",
   "execution_count": 19,
   "id": "b6caa12b",
   "metadata": {
    "execution": {
     "iopub.execute_input": "2022-07-18T16:51:11.499659Z",
     "iopub.status.busy": "2022-07-18T16:51:11.498105Z",
     "iopub.status.idle": "2022-07-18T16:51:11.505472Z",
     "shell.execute_reply": "2022-07-18T16:51:11.504238Z"
    },
    "papermill": {
     "duration": 0.026789,
     "end_time": "2022-07-18T16:51:11.508593",
     "exception": false,
     "start_time": "2022-07-18T16:51:11.481804",
     "status": "completed"
    },
    "tags": []
   },
   "outputs": [
    {
     "name": "stdout",
     "output_type": "stream",
     "text": [
      "           3            2\n",
      "3.402e-09 x - 8.28e-06 x + 0.01024 x + 91.59\n"
     ]
    }
   ],
   "source": [
    "# fit the polynomial with 3rd order (cubic)\n",
    "f = np.polyfit(x, y, 3)\n",
    "p = np.poly1d(f)\n",
    "print(p)"
   ]
  },
  {
   "cell_type": "code",
   "execution_count": 20,
   "id": "6f644cfb",
   "metadata": {
    "execution": {
     "iopub.execute_input": "2022-07-18T16:51:11.540407Z",
     "iopub.status.busy": "2022-07-18T16:51:11.539257Z",
     "iopub.status.idle": "2022-07-18T16:51:11.738152Z",
     "shell.execute_reply": "2022-07-18T16:51:11.736863Z"
    },
    "papermill": {
     "duration": 0.217761,
     "end_time": "2022-07-18T16:51:11.740765",
     "exception": false,
     "start_time": "2022-07-18T16:51:11.523004",
     "status": "completed"
    },
    "tags": []
   },
   "outputs": [
    {
     "data": {
      "image/png": "[encoded data removed]",
      "text/plain": [
       "<Figure size 432x288 with 1 Axes>"
      ]
     },
     "metadata": {
      "needs_background": "light"
     },
     "output_type": "display_data"
    }
   ],
   "source": [
    "# plot the function\n",
    "PlotPolly(p, x, y, 'Volume')"
   ]
  },
  {
   "cell_type": "code",
   "execution_count": 21,
   "id": "55ad7ffd",
   "metadata": {
    "execution": {
     "iopub.execute_input": "2022-07-18T16:51:11.774495Z",
     "iopub.status.busy": "2022-07-18T16:51:11.773354Z",
     "iopub.status.idle": "2022-07-18T16:51:11.782578Z",
     "shell.execute_reply": "2022-07-18T16:51:11.781409Z"
    },
    "papermill": {
     "duration": 0.028761,
     "end_time": "2022-07-18T16:51:11.784933",
     "exception": false,
     "start_time": "2022-07-18T16:51:11.756172",
     "status": "completed"
    },
    "tags": []
   },
   "outputs": [
    {
     "data": {
      "text/plain": [
       "array([ 3.40160231e-09, -8.28034007e-06,  1.02443137e-02,  9.15874971e+01])"
      ]
     },
     "execution_count": 21,
     "metadata": {},
     "output_type": "execute_result"
    }
   ],
   "source": [
    "np.polyfit(x, y, 3)"
   ]
  },
  {
   "cell_type": "code",
   "execution_count": 22,
   "id": "96a097ae",
   "metadata": {
    "execution": {
     "iopub.execute_input": "2022-07-18T16:51:11.817220Z",
     "iopub.status.busy": "2022-07-18T16:51:11.816734Z",
     "iopub.status.idle": "2022-07-18T16:51:12.012804Z",
     "shell.execute_reply": "2022-07-18T16:51:12.011565Z"
    },
    "papermill": {
     "duration": 0.214993,
     "end_time": "2022-07-18T16:51:12.015269",
     "exception": false,
     "start_time": "2022-07-18T16:51:11.800276",
     "status": "completed"
    },
    "tags": []
   },
   "outputs": [
    {
     "name": "stdout",
     "output_type": "stream",
     "text": [
      "           7             6             5             4             3\n",
      "2.926e-19 x - 3.493e-15 x + 1.776e-11 x - 4.981e-08 x + 8.305e-05 x\n",
      "            2\n",
      " - 0.08212 x + 44.45 x - 1.004e+04\n"
     ]
    },
    {
     "data": {
      "image/png": "[encoded data removed]",
      "text/plain": [
       "<Figure size 432x288 with 1 Axes>"
      ]
     },
     "metadata": {
      "needs_background": "light"
     },
     "output_type": "display_data"
    }
   ],
   "source": [
    "# 7 order polynomial\n",
    "f1 = np.polyfit(x,y,7)\n",
    "p1=np.poly1d(f1)\n",
    "print(p1)\n",
    "PlotPolly(p1,x,y, 'Volume')"
   ]
  },
  {
   "cell_type": "markdown",
   "id": "82257e1f",
   "metadata": {
    "papermill": {
     "duration": 0.0141,
     "end_time": "2022-07-18T16:51:12.044164",
     "exception": false,
     "start_time": "2022-07-18T16:51:12.030064",
     "status": "completed"
    },
    "tags": []
   },
   "source": [
    "### Polynomial for Muliple Features"
   ]
  },
  {
   "cell_type": "code",
   "execution_count": 23,
   "id": "7c12973f",
   "metadata": {
    "execution": {
     "iopub.execute_input": "2022-07-18T16:51:12.076262Z",
     "iopub.status.busy": "2022-07-18T16:51:12.075528Z",
     "iopub.status.idle": "2022-07-18T16:51:12.081367Z",
     "shell.execute_reply": "2022-07-18T16:51:12.080438Z"
    },
    "papermill": {
     "duration": 0.024519,
     "end_time": "2022-07-18T16:51:12.083699",
     "exception": false,
     "start_time": "2022-07-18T16:51:12.059180",
     "status": "completed"
    },
    "tags": []
   },
   "outputs": [],
   "source": [
    "from sklearn.preprocessing import PolynomialFeatures"
   ]
  },
  {
   "cell_type": "code",
   "execution_count": 24,
   "id": "843b0a2b",
   "metadata": {
    "execution": {
     "iopub.execute_input": "2022-07-18T16:51:12.116424Z",
     "iopub.status.busy": "2022-07-18T16:51:12.115568Z",
     "iopub.status.idle": "2022-07-18T16:51:12.122604Z",
     "shell.execute_reply": "2022-07-18T16:51:12.121764Z"
    },
    "papermill": {
     "duration": 0.025773,
     "end_time": "2022-07-18T16:51:12.124632",
     "exception": false,
     "start_time": "2022-07-18T16:51:12.098859",
     "status": "completed"
    },
    "tags": []
   },
   "outputs": [
    {
     "data": {
      "text/plain": [
       "PolynomialFeatures()"
      ]
     },
     "execution_count": 24,
     "metadata": {},
     "output_type": "execute_result"
    }
   ],
   "source": [
    "pr=PolynomialFeatures(degree=2)\n",
    "pr"
   ]
  },
  {
   "cell_type": "code",
   "execution_count": 25,
   "id": "35ed173e",
   "metadata": {
    "execution": {
     "iopub.execute_input": "2022-07-18T16:51:12.158144Z",
     "iopub.status.busy": "2022-07-18T16:51:12.157297Z",
     "iopub.status.idle": "2022-07-18T16:51:12.165202Z",
     "shell.execute_reply": "2022-07-18T16:51:12.164387Z"
    },
    "papermill": {
     "duration": 0.026614,
     "end_time": "2022-07-18T16:51:12.167504",
     "exception": false,
     "start_time": "2022-07-18T16:51:12.140890",
     "status": "completed"
    },
    "tags": []
   },
   "outputs": [],
   "source": [
    "VW_pr=pr.fit_transform(X)"
   ]
  },
  {
   "cell_type": "code",
   "execution_count": 26,
   "id": "82c21391",
   "metadata": {
    "execution": {
     "iopub.execute_input": "2022-07-18T16:51:12.199140Z",
     "iopub.status.busy": "2022-07-18T16:51:12.198732Z",
     "iopub.status.idle": "2022-07-18T16:51:12.205833Z",
     "shell.execute_reply": "2022-07-18T16:51:12.204405Z"
    },
    "papermill": {
     "duration": 0.025659,
     "end_time": "2022-07-18T16:51:12.208237",
     "exception": false,
     "start_time": "2022-07-18T16:51:12.182578",
     "status": "completed"
    },
    "tags": []
   },
   "outputs": [
    {
     "data": {
      "text/plain": [
       "(36, 2)"
      ]
     },
     "execution_count": 26,
     "metadata": {},
     "output_type": "execute_result"
    }
   ],
   "source": [
    "#original data\n",
    "X.shape"
   ]
  },
  {
   "cell_type": "code",
   "execution_count": 27,
   "id": "aa434099",
   "metadata": {
    "execution": {
     "iopub.execute_input": "2022-07-18T16:51:12.239730Z",
     "iopub.status.busy": "2022-07-18T16:51:12.239281Z",
     "iopub.status.idle": "2022-07-18T16:51:12.246619Z",
     "shell.execute_reply": "2022-07-18T16:51:12.245395Z"
    },
    "papermill": {
     "duration": 0.025858,
     "end_time": "2022-07-18T16:51:12.248766",
     "exception": false,
     "start_time": "2022-07-18T16:51:12.222908",
     "status": "completed"
    },
    "tags": []
   },
   "outputs": [
    {
     "data": {
      "text/plain": [
       "(36, 6)"
      ]
     },
     "execution_count": 27,
     "metadata": {},
     "output_type": "execute_result"
    }
   ],
   "source": [
    "# after the transformation\n",
    "VW_pr.shape"
   ]
  },
  {
   "cell_type": "markdown",
   "id": "28d86dfe",
   "metadata": {
    "papermill": {
     "duration": 0.014157,
     "end_time": "2022-07-18T16:51:12.277535",
     "exception": false,
     "start_time": "2022-07-18T16:51:12.263378",
     "status": "completed"
    },
    "tags": []
   },
   "source": [
    "### Create Pipline"
   ]
  },
  {
   "cell_type": "code",
   "execution_count": 28,
   "id": "e03009a0",
   "metadata": {
    "execution": {
     "iopub.execute_input": "2022-07-18T16:51:12.309357Z",
     "iopub.status.busy": "2022-07-18T16:51:12.308291Z",
     "iopub.status.idle": "2022-07-18T16:51:12.315175Z",
     "shell.execute_reply": "2022-07-18T16:51:12.314350Z"
    },
    "papermill": {
     "duration": 0.025639,
     "end_time": "2022-07-18T16:51:12.317693",
     "exception": false,
     "start_time": "2022-07-18T16:51:12.292054",
     "status": "completed"
    },
    "tags": []
   },
   "outputs": [],
   "source": [
    "from sklearn.pipeline import Pipeline\n",
    "from sklearn.preprocessing import StandardScaler"
   ]
  },
  {
   "cell_type": "code",
   "execution_count": 29,
   "id": "9b5677bc",
   "metadata": {
    "execution": {
     "iopub.execute_input": "2022-07-18T16:51:12.349682Z",
     "iopub.status.busy": "2022-07-18T16:51:12.349052Z",
     "iopub.status.idle": "2022-07-18T16:51:12.353854Z",
     "shell.execute_reply": "2022-07-18T16:51:12.352960Z"
    },
    "papermill": {
     "duration": 0.023056,
     "end_time": "2022-07-18T16:51:12.355766",
     "exception": false,
     "start_time": "2022-07-18T16:51:12.332710",
     "status": "completed"
    },
    "tags": []
   },
   "outputs": [],
   "source": [
    "# create list of tuples including the name of the model or estimator and its corresponding constructor\n",
    "Input=[('scale',StandardScaler()), ('polynomial', PolynomialFeatures(include_bias=False)), ('model',LinearRegression())]"
   ]
  },
  {
   "cell_type": "code",
   "execution_count": 30,
   "id": "284e81fd",
   "metadata": {
    "execution": {
     "iopub.execute_input": "2022-07-18T16:51:12.387678Z",
     "iopub.status.busy": "2022-07-18T16:51:12.387246Z",
     "iopub.status.idle": "2022-07-18T16:51:12.394476Z",
     "shell.execute_reply": "2022-07-18T16:51:12.393594Z"
    },
    "papermill": {
     "duration": 0.025533,
     "end_time": "2022-07-18T16:51:12.396453",
     "exception": false,
     "start_time": "2022-07-18T16:51:12.370920",
     "status": "completed"
    },
    "tags": []
   },
   "outputs": [
    {
     "data": {
      "text/plain": [
       "Pipeline(steps=[('scale', StandardScaler()),\n",
       "                ('polynomial', PolynomialFeatures(include_bias=False)),\n",
       "                ('model', LinearRegression())])"
      ]
     },
     "execution_count": 30,
     "metadata": {},
     "output_type": "execute_result"
    }
   ],
   "source": [
    "pipe=Pipeline(Input)\n",
    "pipe"
   ]
  },
  {
   "cell_type": "code",
   "execution_count": 31,
   "id": "af5bb498",
   "metadata": {
    "execution": {
     "iopub.execute_input": "2022-07-18T16:51:12.431410Z",
     "iopub.status.busy": "2022-07-18T16:51:12.430853Z",
     "iopub.status.idle": "2022-07-18T16:51:12.446975Z",
     "shell.execute_reply": "2022-07-18T16:51:12.446044Z"
    },
    "papermill": {
     "duration": 0.036168,
     "end_time": "2022-07-18T16:51:12.449286",
     "exception": false,
     "start_time": "2022-07-18T16:51:12.413118",
     "status": "completed"
    },
    "tags": []
   },
   "outputs": [
    {
     "data": {
      "text/plain": [
       "Pipeline(steps=[('scale', StandardScaler()),\n",
       "                ('polynomial', PolynomialFeatures(include_bias=False)),\n",
       "                ('model', LinearRegression())])"
      ]
     },
     "execution_count": 31,
     "metadata": {},
     "output_type": "execute_result"
    }
   ],
   "source": [
    "# Convert the data type X to type float to avoid conversion warnings that may appear as a result of STandardScaler taking float inputs\n",
    "# Then, normalize the data, perform a transform and fit the model simultaneously\n",
    "X = X.astype(float)\n",
    "pipe.fit(X,y)"
   ]
  },
  {
   "cell_type": "code",
   "execution_count": 32,
   "id": "c7f7c744",
   "metadata": {
    "execution": {
     "iopub.execute_input": "2022-07-18T16:51:12.482707Z",
     "iopub.status.busy": "2022-07-18T16:51:12.481983Z",
     "iopub.status.idle": "2022-07-18T16:51:12.490408Z",
     "shell.execute_reply": "2022-07-18T16:51:12.489569Z"
    },
    "papermill": {
     "duration": 0.027504,
     "end_time": "2022-07-18T16:51:12.492396",
     "exception": false,
     "start_time": "2022-07-18T16:51:12.464892",
     "status": "completed"
    },
    "tags": []
   },
   "outputs": [
    {
     "data": {
      "text/plain": [
       "array([100.56295221,  96.0727048 ,  97.36452779,  98.47584023])"
      ]
     },
     "execution_count": 32,
     "metadata": {},
     "output_type": "execute_result"
    }
   ],
   "source": [
    "ypipe = pipe.predict(X)\n",
    "ypipe[:4]"
   ]
  },
  {
   "cell_type": "code",
   "execution_count": 33,
   "id": "a5d04464",
   "metadata": {
    "execution": {
     "iopub.execute_input": "2022-07-18T16:51:12.526766Z",
     "iopub.status.busy": "2022-07-18T16:51:12.525925Z",
     "iopub.status.idle": "2022-07-18T16:51:12.540483Z",
     "shell.execute_reply": "2022-07-18T16:51:12.538996Z"
    },
    "papermill": {
     "duration": 0.035125,
     "end_time": "2022-07-18T16:51:12.542823",
     "exception": false,
     "start_time": "2022-07-18T16:51:12.507698",
     "status": "completed"
    },
    "tags": []
   },
   "outputs": [
    {
     "data": {
      "text/plain": [
       "array([ 93.46522516,  97.82012716,  94.51480683,  93.25102045,\n",
       "       100.01068547,  94.51480683,  98.99608035, 101.70964861,\n",
       "        99.79925895, 100.8667207 ])"
      ]
     },
     "execution_count": 33,
     "metadata": {},
     "output_type": "execute_result"
    }
   ],
   "source": [
    "# Pipeline that standardizes data\n",
    "Input=[('scale',StandardScaler()),('model',LinearRegression())]\n",
    "pipe=Pipeline(Input)\n",
    "\n",
    "pipe.fit(X,y)\n",
    "\n",
    "ypipe=pipe.predict(X)\n",
    "ypipe[0:10]"
   ]
  },
  {
   "cell_type": "markdown",
   "id": "c6e5671c",
   "metadata": {
    "papermill": {
     "duration": 0.015005,
     "end_time": "2022-07-18T16:51:12.573317",
     "exception": false,
     "start_time": "2022-07-18T16:51:12.558312",
     "status": "completed"
    },
    "tags": []
   },
   "source": [
    "## Evaluate Model"
   ]
  },
  {
   "cell_type": "markdown",
   "id": "52858573",
   "metadata": {
    "papermill": {
     "duration": 0.014968,
     "end_time": "2022-07-18T16:51:12.604148",
     "exception": false,
     "start_time": "2022-07-18T16:51:12.589180",
     "status": "completed"
    },
    "tags": []
   },
   "source": [
    "### Model 1"
   ]
  },
  {
   "cell_type": "code",
   "execution_count": 34,
   "id": "3bc727ec",
   "metadata": {
    "execution": {
     "iopub.execute_input": "2022-07-18T16:51:12.637288Z",
     "iopub.status.busy": "2022-07-18T16:51:12.636362Z",
     "iopub.status.idle": "2022-07-18T16:51:12.643052Z",
     "shell.execute_reply": "2022-07-18T16:51:12.641919Z"
    },
    "papermill": {
     "duration": 0.026429,
     "end_time": "2022-07-18T16:51:12.645923",
     "exception": false,
     "start_time": "2022-07-18T16:51:12.619494",
     "status": "completed"
    },
    "tags": []
   },
   "outputs": [],
   "source": [
    "X1 = df[['Volume']]\n",
    "Y1 = df['CO2']"
   ]
  },
  {
   "cell_type": "code",
   "execution_count": 35,
   "id": "78d9caf0",
   "metadata": {
    "execution": {
     "iopub.execute_input": "2022-07-18T16:51:12.680079Z",
     "iopub.status.busy": "2022-07-18T16:51:12.679532Z",
     "iopub.status.idle": "2022-07-18T16:51:12.692009Z",
     "shell.execute_reply": "2022-07-18T16:51:12.690678Z"
    },
    "papermill": {
     "duration": 0.032092,
     "end_time": "2022-07-18T16:51:12.694210",
     "exception": false,
     "start_time": "2022-07-18T16:51:12.662118",
     "status": "completed"
    },
    "tags": []
   },
   "outputs": [
    {
     "name": "stdout",
     "output_type": "stream",
     "text": [
      "The R-square is:  0.3505608516055503\n"
     ]
    }
   ],
   "source": [
    "# Model 1\n",
    "lm.fit(X1,Y1) #Volume fit\n",
    "print('The R-square is: ', lm.score(X1, Y1))"
   ]
  },
  {
   "cell_type": "markdown",
   "id": "5de47449",
   "metadata": {
    "papermill": {
     "duration": 0.015212,
     "end_time": "2022-07-18T16:51:12.725710",
     "exception": false,
     "start_time": "2022-07-18T16:51:12.710498",
     "status": "completed"
    },
    "tags": []
   },
   "source": [
    "~ 35% of the variation of CO2 emissions is explained by this simple linear model"
   ]
  },
  {
   "cell_type": "code",
   "execution_count": 36,
   "id": "d332de41",
   "metadata": {
    "execution": {
     "iopub.execute_input": "2022-07-18T16:51:12.759099Z",
     "iopub.status.busy": "2022-07-18T16:51:12.758147Z",
     "iopub.status.idle": "2022-07-18T16:51:12.767057Z",
     "shell.execute_reply": "2022-07-18T16:51:12.765806Z"
    },
    "papermill": {
     "duration": 0.027875,
     "end_time": "2022-07-18T16:51:12.769080",
     "exception": false,
     "start_time": "2022-07-18T16:51:12.741205",
     "status": "completed"
    },
    "tags": []
   },
   "outputs": [
    {
     "name": "stdout",
     "output_type": "stream",
     "text": [
      "The output of the first four predicted value is:  [95.09347461 97.36288292 95.09347461 93.95877046]\n"
     ]
    }
   ],
   "source": [
    "# calculate MSE\n",
    "Yhat=lm.predict(X1)\n",
    "print('The output of the first four predicted value is: ', Yhat[0:4])"
   ]
  },
  {
   "cell_type": "code",
   "execution_count": 37,
   "id": "46689ec0",
   "metadata": {
    "execution": {
     "iopub.execute_input": "2022-07-18T16:51:12.801498Z",
     "iopub.status.busy": "2022-07-18T16:51:12.801117Z",
     "iopub.status.idle": "2022-07-18T16:51:12.805997Z",
     "shell.execute_reply": "2022-07-18T16:51:12.804784Z"
    },
    "papermill": {
     "duration": 0.023657,
     "end_time": "2022-07-18T16:51:12.808147",
     "exception": false,
     "start_time": "2022-07-18T16:51:12.784490",
     "status": "completed"
    },
    "tags": []
   },
   "outputs": [],
   "source": [
    "#imprt function for **Mean Squared Error* (MSE)\n",
    "from sklearn.metrics import mean_squared_error"
   ]
  },
  {
   "cell_type": "code",
   "execution_count": 38,
   "id": "783981cd",
   "metadata": {
    "execution": {
     "iopub.execute_input": "2022-07-18T16:51:12.841537Z",
     "iopub.status.busy": "2022-07-18T16:51:12.841107Z",
     "iopub.status.idle": "2022-07-18T16:51:12.847859Z",
     "shell.execute_reply": "2022-07-18T16:51:12.846660Z"
    },
    "papermill": {
     "duration": 0.025902,
     "end_time": "2022-07-18T16:51:12.850021",
     "exception": false,
     "start_time": "2022-07-18T16:51:12.824119",
     "status": "completed"
    },
    "tags": []
   },
   "outputs": [
    {
     "name": "stdout",
     "output_type": "stream",
     "text": [
      "The mean square error of price and predicted value is:  35.08725287919057\n"
     ]
    }
   ],
   "source": [
    "mse = mean_squared_error(df['CO2'], Yhat)\n",
    "print('The mean square error of price and predicted value is: ', mse)"
   ]
  },
  {
   "cell_type": "markdown",
   "id": "ac77da58",
   "metadata": {
    "papermill": {
     "duration": 0.015726,
     "end_time": "2022-07-18T16:51:12.881236",
     "exception": false,
     "start_time": "2022-07-18T16:51:12.865510",
     "status": "completed"
    },
    "tags": []
   },
   "source": [
    "### Model 2"
   ]
  },
  {
   "cell_type": "code",
   "execution_count": 39,
   "id": "3b3ade1e",
   "metadata": {
    "execution": {
     "iopub.execute_input": "2022-07-18T16:51:12.914945Z",
     "iopub.status.busy": "2022-07-18T16:51:12.914580Z",
     "iopub.status.idle": "2022-07-18T16:51:12.923872Z",
     "shell.execute_reply": "2022-07-18T16:51:12.922997Z"
    },
    "papermill": {
     "duration": 0.02862,
     "end_time": "2022-07-18T16:51:12.926290",
     "exception": false,
     "start_time": "2022-07-18T16:51:12.897670",
     "status": "completed"
    },
    "tags": []
   },
   "outputs": [
    {
     "name": "stdout",
     "output_type": "stream",
     "text": [
      "The R-square is:  0.3765564043619989\n"
     ]
    }
   ],
   "source": [
    "# fit the model\n",
    "lm.fit(X, df['CO2'])\n",
    "# Find R^2\n",
    "print('The R-square is: ', lm.score(X, df['CO2']))"
   ]
  },
  {
   "cell_type": "code",
   "execution_count": 40,
   "id": "9e63d02d",
   "metadata": {
    "execution": {
     "iopub.execute_input": "2022-07-18T16:51:12.960449Z",
     "iopub.status.busy": "2022-07-18T16:51:12.960011Z",
     "iopub.status.idle": "2022-07-18T16:51:12.965841Z",
     "shell.execute_reply": "2022-07-18T16:51:12.964944Z"
    },
    "papermill": {
     "duration": 0.026105,
     "end_time": "2022-07-18T16:51:12.967817",
     "exception": false,
     "start_time": "2022-07-18T16:51:12.941712",
     "status": "completed"
    },
    "tags": []
   },
   "outputs": [],
   "source": [
    "# calculate MSE\n",
    "X_predict_multifit = lm.predict(X)"
   ]
  },
  {
   "cell_type": "code",
   "execution_count": 41,
   "id": "3fa7f434",
   "metadata": {
    "execution": {
     "iopub.execute_input": "2022-07-18T16:51:13.002755Z",
     "iopub.status.busy": "2022-07-18T16:51:13.002411Z",
     "iopub.status.idle": "2022-07-18T16:51:13.007535Z",
     "shell.execute_reply": "2022-07-18T16:51:13.006777Z"
    },
    "papermill": {
     "duration": 0.025531,
     "end_time": "2022-07-18T16:51:13.009661",
     "exception": false,
     "start_time": "2022-07-18T16:51:12.984130",
     "status": "completed"
    },
    "tags": []
   },
   "outputs": [
    {
     "name": "stdout",
     "output_type": "stream",
     "text": [
      "The mean square error of price and predicted value using multifit is:  33.68279098995154\n"
     ]
    }
   ],
   "source": [
    "print('The mean square error of price and predicted value using multifit is: ', \\\n",
    "      mean_squared_error(df['CO2'], X_predict_multifit))"
   ]
  },
  {
   "cell_type": "markdown",
   "id": "3dd1f335",
   "metadata": {
    "papermill": {
     "duration": 0.015703,
     "end_time": "2022-07-18T16:51:13.041523",
     "exception": false,
     "start_time": "2022-07-18T16:51:13.025820",
     "status": "completed"
    },
    "tags": []
   },
   "source": [
    "### Model 3: Polynomial Fit"
   ]
  },
  {
   "cell_type": "code",
   "execution_count": 42,
   "id": "8288fe09",
   "metadata": {
    "execution": {
     "iopub.execute_input": "2022-07-18T16:51:13.075485Z",
     "iopub.status.busy": "2022-07-18T16:51:13.075048Z",
     "iopub.status.idle": "2022-07-18T16:51:13.079735Z",
     "shell.execute_reply": "2022-07-18T16:51:13.078485Z"
    },
    "papermill": {
     "duration": 0.024262,
     "end_time": "2022-07-18T16:51:13.081741",
     "exception": false,
     "start_time": "2022-07-18T16:51:13.057479",
     "status": "completed"
    },
    "tags": []
   },
   "outputs": [],
   "source": [
    "# import r2_score function\n",
    "from sklearn.metrics import r2_score"
   ]
  },
  {
   "cell_type": "code",
   "execution_count": 43,
   "id": "a7b7ab57",
   "metadata": {
    "execution": {
     "iopub.execute_input": "2022-07-18T16:51:13.115663Z",
     "iopub.status.busy": "2022-07-18T16:51:13.115259Z",
     "iopub.status.idle": "2022-07-18T16:51:13.120846Z",
     "shell.execute_reply": "2022-07-18T16:51:13.120020Z"
    },
    "papermill": {
     "duration": 0.025529,
     "end_time": "2022-07-18T16:51:13.123267",
     "exception": false,
     "start_time": "2022-07-18T16:51:13.097738",
     "status": "completed"
    },
    "tags": []
   },
   "outputs": [
    {
     "name": "stdout",
     "output_type": "stream",
     "text": [
      "The R-square value is:  0.3961803906898165\n"
     ]
    }
   ],
   "source": [
    "r_squared = r2_score(y, p(x))\n",
    "print('The R-square value is: ', r_squared)"
   ]
  },
  {
   "cell_type": "markdown",
   "id": "d9a82114",
   "metadata": {
    "papermill": {
     "duration": 0.016962,
     "end_time": "2022-07-18T16:51:13.156364",
     "exception": false,
     "start_time": "2022-07-18T16:51:13.139402",
     "status": "completed"
    },
    "tags": []
   },
   "source": [
    "~ 40% of the variation of CO2 is explained by this polynomial fit (3rd order)"
   ]
  },
  {
   "cell_type": "code",
   "execution_count": 44,
   "id": "c3775447",
   "metadata": {
    "execution": {
     "iopub.execute_input": "2022-07-18T16:51:13.190925Z",
     "iopub.status.busy": "2022-07-18T16:51:13.190508Z",
     "iopub.status.idle": "2022-07-18T16:51:13.198281Z",
     "shell.execute_reply": "2022-07-18T16:51:13.197394Z"
    },
    "papermill": {
     "duration": 0.02719,
     "end_time": "2022-07-18T16:51:13.200429",
     "exception": false,
     "start_time": "2022-07-18T16:51:13.173239",
     "status": "completed"
    },
    "tags": []
   },
   "outputs": [
    {
     "data": {
      "text/plain": [
       "32.622565759482825"
      ]
     },
     "execution_count": 44,
     "metadata": {},
     "output_type": "execute_result"
    }
   ],
   "source": [
    "mean_squared_error(df['CO2'], p(x))"
   ]
  },
  {
   "cell_type": "code",
   "execution_count": 45,
   "id": "0e1d6c02",
   "metadata": {
    "execution": {
     "iopub.execute_input": "2022-07-18T16:51:13.235290Z",
     "iopub.status.busy": "2022-07-18T16:51:13.234540Z",
     "iopub.status.idle": "2022-07-18T16:51:13.240459Z",
     "shell.execute_reply": "2022-07-18T16:51:13.239599Z"
    },
    "papermill": {
     "duration": 0.026203,
     "end_time": "2022-07-18T16:51:13.242777",
     "exception": false,
     "start_time": "2022-07-18T16:51:13.216574",
     "status": "completed"
    },
    "tags": []
   },
   "outputs": [
    {
     "name": "stdout",
     "output_type": "stream",
     "text": [
      "The R-square value is:  0.4734938761985814\n"
     ]
    }
   ],
   "source": [
    "r_squared = r2_score(y, p1(x))\n",
    "print('The R-square value is: ', r_squared)"
   ]
  },
  {
   "cell_type": "markdown",
   "id": "185da268",
   "metadata": {
    "papermill": {
     "duration": 0.015228,
     "end_time": "2022-07-18T16:51:13.274597",
     "exception": false,
     "start_time": "2022-07-18T16:51:13.259369",
     "status": "completed"
    },
    "tags": []
   },
   "source": [
    "~ 47% of the variation of CO2 is explained by this polynomial fit (7th order)"
   ]
  },
  {
   "cell_type": "code",
   "execution_count": 46,
   "id": "3fba9660",
   "metadata": {
    "execution": {
     "iopub.execute_input": "2022-07-18T16:51:13.341335Z",
     "iopub.status.busy": "2022-07-18T16:51:13.340852Z",
     "iopub.status.idle": "2022-07-18T16:51:13.348503Z",
     "shell.execute_reply": "2022-07-18T16:51:13.347119Z"
    },
    "papermill": {
     "duration": 0.059238,
     "end_time": "2022-07-18T16:51:13.350850",
     "exception": false,
     "start_time": "2022-07-18T16:51:13.291612",
     "status": "completed"
    },
    "tags": []
   },
   "outputs": [
    {
     "data": {
      "text/plain": [
       "28.445549600657046"
      ]
     },
     "execution_count": 46,
     "metadata": {},
     "output_type": "execute_result"
    }
   ],
   "source": [
    "# calculate mse\n",
    "mean_squared_error(df['CO2'], p1(x))"
   ]
  },
  {
   "cell_type": "markdown",
   "id": "5a06d3d2",
   "metadata": {
    "papermill": {
     "duration": 0.01603,
     "end_time": "2022-07-18T16:51:13.383145",
     "exception": false,
     "start_time": "2022-07-18T16:51:13.367115",
     "status": "completed"
    },
    "tags": []
   },
   "source": [
    "# Prediction and Decision Making"
   ]
  },
  {
   "cell_type": "markdown",
   "id": "26b0c361",
   "metadata": {
    "papermill": {
     "duration": 0.016527,
     "end_time": "2022-07-18T16:51:13.416566",
     "exception": false,
     "start_time": "2022-07-18T16:51:13.400039",
     "status": "completed"
    },
    "tags": []
   },
   "source": [
    "### Prediction"
   ]
  },
  {
   "cell_type": "code",
   "execution_count": 47,
   "id": "eec7dc9c",
   "metadata": {
    "execution": {
     "iopub.execute_input": "2022-07-18T16:51:13.453150Z",
     "iopub.status.busy": "2022-07-18T16:51:13.452090Z",
     "iopub.status.idle": "2022-07-18T16:51:13.457998Z",
     "shell.execute_reply": "2022-07-18T16:51:13.457152Z"
    },
    "papermill": {
     "duration": 0.026881,
     "end_time": "2022-07-18T16:51:13.460243",
     "exception": false,
     "start_time": "2022-07-18T16:51:13.433362",
     "status": "completed"
    },
    "tags": []
   },
   "outputs": [],
   "source": [
    "# create new input\n",
    "new_input=np.arange(750, 2500, 750).reshape(-1, 1)"
   ]
  },
  {
   "cell_type": "code",
   "execution_count": 48,
   "id": "f632ef62",
   "metadata": {
    "execution": {
     "iopub.execute_input": "2022-07-18T16:51:13.494339Z",
     "iopub.status.busy": "2022-07-18T16:51:13.493538Z",
     "iopub.status.idle": "2022-07-18T16:51:13.502865Z",
     "shell.execute_reply": "2022-07-18T16:51:13.501876Z"
    },
    "papermill": {
     "duration": 0.028982,
     "end_time": "2022-07-18T16:51:13.505055",
     "exception": false,
     "start_time": "2022-07-18T16:51:13.476073",
     "status": "completed"
    },
    "tags": []
   },
   "outputs": [
    {
     "data": {
      "text/plain": [
       "LinearRegression()"
      ]
     },
     "execution_count": 48,
     "metadata": {},
     "output_type": "execute_result"
    }
   ],
   "source": [
    "lm.fit(X1,Y1)\n",
    "lm"
   ]
  },
  {
   "cell_type": "code",
   "execution_count": 49,
   "id": "da03a97d",
   "metadata": {
    "execution": {
     "iopub.execute_input": "2022-07-18T16:51:13.539064Z",
     "iopub.status.busy": "2022-07-18T16:51:13.538283Z",
     "iopub.status.idle": "2022-07-18T16:51:13.551208Z",
     "shell.execute_reply": "2022-07-18T16:51:13.549594Z"
    },
    "papermill": {
     "duration": 0.032879,
     "end_time": "2022-07-18T16:51:13.553714",
     "exception": false,
     "start_time": "2022-07-18T16:51:13.520835",
     "status": "completed"
    },
    "tags": []
   },
   "outputs": [
    {
     "name": "stderr",
     "output_type": "stream",
     "text": [
      "/opt/conda/lib/python3.7/site-packages/sklearn/base.py:451: UserWarning: X does not have valid feature names, but LinearRegression was fitted with feature names\n",
      "  \"X does not have valid feature names, but\"\n"
     ]
    },
    {
     "data": {
      "text/plain": [
       "array([ 92.25671423, 100.76699538, 109.27727654])"
      ]
     },
     "execution_count": 49,
     "metadata": {},
     "output_type": "execute_result"
    }
   ],
   "source": [
    "yhat=lm.predict(new_input)\n",
    "yhat[0:5]"
   ]
  },
  {
   "cell_type": "code",
   "execution_count": 50,
   "id": "9debc1ea",
   "metadata": {
    "execution": {
     "iopub.execute_input": "2022-07-18T16:51:13.589413Z",
     "iopub.status.busy": "2022-07-18T16:51:13.589013Z",
     "iopub.status.idle": "2022-07-18T16:51:13.780479Z",
     "shell.execute_reply": "2022-07-18T16:51:13.779433Z"
    },
    "papermill": {
     "duration": 0.213046,
     "end_time": "2022-07-18T16:51:13.783209",
     "exception": false,
     "start_time": "2022-07-18T16:51:13.570163",
     "status": "completed"
    },
    "tags": []
   },
   "outputs": [
    {
     "data": {
      "image/png": "[encoded data removed]",
      "text/plain": [
       "<Figure size 432x288 with 1 Axes>"
      ]
     },
     "metadata": {
      "needs_background": "light"
     },
     "output_type": "display_data"
    }
   ],
   "source": [
    "plt.plot(new_input, yhat)\n",
    "plt.show()"
   ]
  },
  {
   "cell_type": "markdown",
   "id": "3dc469c4",
   "metadata": {
    "papermill": {
     "duration": 0.01678,
     "end_time": "2022-07-18T16:51:13.816605",
     "exception": false,
     "start_time": "2022-07-18T16:51:13.799825",
     "status": "completed"
    },
    "tags": []
   },
   "source": [
    "### Decision Making"
   ]
  },
  {
   "cell_type": "markdown",
   "id": "1d12044b",
   "metadata": {
    "papermill": {
     "duration": 0.016509,
     "end_time": "2022-07-18T16:51:13.850159",
     "exception": false,
     "start_time": "2022-07-18T16:51:13.833650",
     "status": "completed"
    },
    "tags": []
   },
   "source": [
    "#### Look at different models:\n",
    "\n",
    "Simple Linear Regression: Using car Volume as a predictor variable of CO2 emissions.\n",
    "\n",
    "- R-Squared: 0.3506\n",
    "- MSE: 45.0873\n",
    "\n",
    "Multiple Linear Regression: Using Volume and Weight as predictor variables of CO2 emissions.\n",
    "\n",
    "- R-Squared: 0.3766\n",
    "- MSE: 33.6828\n",
    "\n",
    "Polynomial Fit(3rd order): Using Volume as a predictor variable of CO2 emissions.\n",
    "\n",
    "- R-Squared: 0.3962\n",
    "- MSE: \n",
    "\n",
    "Polynomial Fit(7th order): Using Volume as a predictor variable of CO2 emissions.\n",
    "\n",
    "- R-Squared: 0.4735\n",
    "- MSE: 28.4455"
   ]
  },
  {
   "cell_type": "markdown",
   "id": "0ae99ab0",
   "metadata": {
    "papermill": {
     "duration": 0.01593,
     "end_time": "2022-07-18T16:51:13.882493",
     "exception": false,
     "start_time": "2022-07-18T16:51:13.866563",
     "status": "completed"
    },
    "tags": []
   },
   "source": [
    "# Conclusion"
   ]
  },
  {
   "cell_type": "markdown",
   "id": "6ee3c4af",
   "metadata": {
    "papermill": {
     "duration": 0.016744,
     "end_time": "2022-07-18T16:51:13.915518",
     "exception": false,
     "start_time": "2022-07-18T16:51:13.898774",
     "status": "completed"
    },
    "tags": []
   },
   "source": [
    "Polynomial fit(7th order) is the best model for predicting CO2 emissions. It makes sense this does better the MLR model because there are only two factors in this data set and they both have very similar correlation.\n",
    "\n",
    "**Note/Follow up** only 3rd order and 7th order polynomial fits were tried, other order could potentially be tested."
   ]
  }
 ],
 "metadata": {
  "kernelspec": {
   "display_name": "Python 3",
   "language": "python",
   "name": "python3"
  },
  "language_info": {
   "codemirror_mode": {
    "name": "ipython",
    "version": 3
   },
   "file_extension": ".py",
   "mimetype": "text/x-python",
   "name": "python",
   "nbconvert_exporter": "python",
   "pygments_lexer": "ipython3",
   "version": "3.7.12"
  },
  "papermill": {
   "default_parameters": {},
   "duration": 16.597903,
   "end_time": "2022-07-18T16:51:15.058450",
   "environment_variables": {},
   "exception": null,
   "input_path": "__notebook__.ipynb",
   "output_path": "__notebook__.ipynb",
   "parameters": {},
   "start_time": "2022-07-18T16:50:58.460547",
   "version": "2.3.4"
  }
 },
 "nbformat": 4,
 "nbformat_minor": 5
}
